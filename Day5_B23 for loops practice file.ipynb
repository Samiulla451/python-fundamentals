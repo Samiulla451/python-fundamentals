{
 "cells": [
  {
   "cell_type": "code",
   "execution_count": 1,
   "metadata": {},
   "outputs": [],
   "source": [
    "# introduction to looping statements\n",
    "# working with foor loops:"
   ]
  },
  {
   "cell_type": "code",
   "execution_count": 6,
   "metadata": {},
   "outputs": [],
   "source": [
    "bank_customers=[\"naveen\",\"papi\",\"karthik\",\"samia\",\"surya\",\"vandana\",\"anusha\"]"
   ]
  },
  {
   "cell_type": "code",
   "execution_count": 7,
   "metadata": {},
   "outputs": [],
   "source": [
    "#req:greet the customers on a new year:\n",
    "#wish you a very hsppy new year"
   ]
  },
  {
   "cell_type": "code",
   "execution_count": 12,
   "metadata": {},
   "outputs": [
    {
     "name": "stdout",
     "output_type": "stream",
     "text": [
      "wish you a happy new year,naveen\n"
     ]
    }
   ],
   "source": [
    "print(f\"wish you a happy new year,{bank_customers[0]}\")"
   ]
  },
  {
   "cell_type": "code",
   "execution_count": null,
   "metadata": {},
   "outputs": [],
   "source": []
  },
  {
   "cell_type": "code",
   "execution_count": 13,
   "metadata": {},
   "outputs": [
    {
     "name": "stdout",
     "output_type": "stream",
     "text": [
      "wish you a very happy newyear,naveen\n",
      "wish you a very happy newyear,papi\n",
      "wish you a very happy newyear,karthik\n",
      "wish you a very happy newyear,samia\n",
      "wish you a very happy newyear,surya\n",
      "wish you a very happy newyear,vandana\n",
      "wish you a very happy newyear,anusha\n"
     ]
    }
   ],
   "source": [
    "for item in bank_customers:\n",
    "    print(f\"wish you a very happy newyear,{item}\")\n",
    "\n"
   ]
  },
  {
   "cell_type": "code",
   "execution_count": 18,
   "metadata": {},
   "outputs": [
    {
     "data": {
      "text/plain": [
       "' for tempvar in mainvariable:    \\n        print(tempvar)     #indentation: on tab space\\n'"
      ]
     },
     "execution_count": 18,
     "metadata": {},
     "output_type": "execute_result"
    }
   ],
   "source": [
    "#general syntax of for variable:\n",
    "\"\"\" for tempvar in mainvariable:    \n",
    "        print(tempvar)     #indentation: on tab space\n",
    "\"\"\""
   ]
  },
  {
   "cell_type": "code",
   "execution_count": 17,
   "metadata": {},
   "outputs": [
    {
     "name": "stdout",
     "output_type": "stream",
     "text": [
      "wish you a happy new year naveen\n",
      "wish you a happy new year papi\n",
      "wish you a happy new year karthik\n",
      "wish you a happy new year samia\n",
      "wish you a happy new year surya\n",
      "wish you a happy new year vandana\n",
      "wish you a happy new year anusha\n"
     ]
    }
   ],
   "source": [
    "for i in bank_customers:\n",
    "    print(\"wish you a happy new year\",i)"
   ]
  },
  {
   "cell_type": "code",
   "execution_count": null,
   "metadata": {},
   "outputs": [],
   "source": []
  },
  {
   "cell_type": "code",
   "execution_count": 32,
   "metadata": {},
   "outputs": [],
   "source": [
    "students=[\"suman\",\"keerthi\",\"yasmeen\",\"ravi\",\"john\",\"praveen\",\"sajid\"]"
   ]
  },
  {
   "cell_type": "code",
   "execution_count": 33,
   "metadata": {},
   "outputs": [],
   "source": [
    "#to appreciate the students"
   ]
  },
  {
   "cell_type": "code",
   "execution_count": 34,
   "metadata": {},
   "outputs": [
    {
     "name": "stdout",
     "output_type": "stream",
     "text": [
      "keep up the good work,Suman\n",
      "keep up the good work,Keerthi\n",
      "keep up the good work,Yasmeen\n",
      "keep up the good work,Ravi\n",
      "keep up the good work,John\n",
      "keep up the good work,Praveen\n",
      "keep up the good work,Sajid\n"
     ]
    }
   ],
   "source": [
    "for i in students:\n",
    "    print(f\"keep up the good work,{i.title()}\")#enhancements to upper title"
   ]
  },
  {
   "cell_type": "code",
   "execution_count": 35,
   "metadata": {},
   "outputs": [
    {
     "name": "stdout",
     "output_type": "stream",
     "text": [
      "keep up the good work,Suman\n",
      "i will be looking forward to recieve all your work practice files today,Suman\n",
      "keep up the good work,Keerthi\n",
      "i will be looking forward to recieve all your work practice files today,Keerthi\n",
      "keep up the good work,Yasmeen\n",
      "i will be looking forward to recieve all your work practice files today,Yasmeen\n",
      "keep up the good work,Ravi\n",
      "i will be looking forward to recieve all your work practice files today,Ravi\n",
      "keep up the good work,John\n",
      "i will be looking forward to recieve all your work practice files today,John\n",
      "keep up the good work,Praveen\n",
      "i will be looking forward to recieve all your work practice files today,Praveen\n",
      "keep up the good work,Sajid\n",
      "i will be looking forward to recieve all your work practice files today,Sajid\n"
     ]
    }
   ],
   "source": [
    "for i in students:\n",
    "    print(f\"keep up the good work,{i.title()}\")\n",
    "    print(f\"i will be looking forward to recieve all your work practice files today,{i.title()}\")"
   ]
  },
  {
   "cell_type": "code",
   "execution_count": 36,
   "metadata": {},
   "outputs": [
    {
     "name": "stdout",
     "output_type": "stream",
     "text": [
      "keep up the good work,Suman\n",
      "i will be looking forward to recieve all your work practice files today,Suman.\n",
      "\n",
      "keep up the good work,Keerthi\n",
      "i will be looking forward to recieve all your work practice files today,Keerthi.\n",
      "\n",
      "keep up the good work,Yasmeen\n",
      "i will be looking forward to recieve all your work practice files today,Yasmeen.\n",
      "\n",
      "keep up the good work,Ravi\n",
      "i will be looking forward to recieve all your work practice files today,Ravi.\n",
      "\n",
      "keep up the good work,John\n",
      "i will be looking forward to recieve all your work practice files today,John.\n",
      "\n",
      "keep up the good work,Praveen\n",
      "i will be looking forward to recieve all your work practice files today,Praveen.\n",
      "\n",
      "keep up the good work,Sajid\n",
      "i will be looking forward to recieve all your work practice files today,Sajid.\n",
      "\n"
     ]
    }
   ],
   "source": [
    "#enhancements: to make it beautiful\n",
    "\n",
    "for i in students:\n",
    "    print(f\"keep up the good work,{i.title()}\")\n",
    "    print(f\"i will be looking forward to recieve all your work practice files today,{i.title()}.\\n\")"
   ]
  },
  {
   "cell_type": "code",
   "execution_count": 37,
   "metadata": {},
   "outputs": [
    {
     "name": "stdout",
     "output_type": "stream",
     "text": [
      "keep up the good work,Suman\n",
      "i will be looking forward to recieve all your work practice files today,Suman.\n",
      "\n",
      "keep up the good work,Keerthi\n",
      "i will be looking forward to recieve all your work practice files today,Keerthi.\n",
      "\n",
      "keep up the good work,Yasmeen\n",
      "i will be looking forward to recieve all your work practice files today,Yasmeen.\n",
      "\n",
      "keep up the good work,Ravi\n",
      "i will be looking forward to recieve all your work practice files today,Ravi.\n",
      "\n",
      "keep up the good work,John\n",
      "i will be looking forward to recieve all your work practice files today,John.\n",
      "\n",
      "keep up the good work,Praveen\n",
      "i will be looking forward to recieve all your work practice files today,Praveen.\n",
      "\n",
      "keep up the good work,Sajid\n",
      "i will be looking forward to recieve all your work practice files today,Sajid.\n",
      "\n",
      "thankyou all for showing the interest in learning python\n"
     ]
    }
   ],
   "source": [
    "for i in students:\n",
    "    print(f\"keep up the good work,{i.title()}\")\n",
    "    print(f\"i will be looking forward to recieve all your work practice files today,{i.title()}.\\n\")\n",
    "print(\"thankyou all for showing the interest in learning python\")"
   ]
  },
  {
   "cell_type": "code",
   "execution_count": 41,
   "metadata": {},
   "outputs": [],
   "source": [
    "# Introduction to zen of python:\n",
    "import this"
   ]
  },
  {
   "cell_type": "code",
   "execution_count": 39,
   "metadata": {},
   "outputs": [],
   "source": [
    "# Introduction to organizing the lists:\n"
   ]
  },
  {
   "cell_type": "code",
   "execution_count": 40,
   "metadata": {},
   "outputs": [
    {
     "name": "stdout",
     "output_type": "stream",
     "text": [
      "['suman', 'keerthi', 'yasmeen', 'ravi', 'john', 'praveen', 'sajid']\n"
     ]
    }
   ],
   "source": [
    "print(students)"
   ]
  },
  {
   "cell_type": "code",
   "execution_count": 43,
   "metadata": {},
   "outputs": [],
   "source": [
    "# two possible ways to organise lists:\n",
    "#1.temp way\n",
    "#2.permanent way"
   ]
  },
  {
   "cell_type": "code",
   "execution_count": 44,
   "metadata": {},
   "outputs": [
    {
     "name": "stdout",
     "output_type": "stream",
     "text": [
      "['john', 'keerthi', 'praveen', 'ravi', 'sajid', 'suman', 'yasmeen']\n"
     ]
    }
   ],
   "source": [
    "print(sorted(students)) # temporary method"
   ]
  },
  {
   "cell_type": "code",
   "execution_count": 45,
   "metadata": {},
   "outputs": [
    {
     "name": "stdout",
     "output_type": "stream",
     "text": [
      "['suman', 'keerthi', 'yasmeen', 'ravi', 'john', 'praveen', 'sajid']\n"
     ]
    }
   ],
   "source": [
    "print(students)"
   ]
  },
  {
   "cell_type": "code",
   "execution_count": 48,
   "metadata": {},
   "outputs": [],
   "source": [
    "students.sort()# permanent method"
   ]
  },
  {
   "cell_type": "code",
   "execution_count": 49,
   "metadata": {},
   "outputs": [
    {
     "name": "stdout",
     "output_type": "stream",
     "text": [
      "['john', 'keerthi', 'praveen', 'ravi', 'sajid', 'suman', 'yasmeen']\n"
     ]
    }
   ],
   "source": [
    "print(students)"
   ]
  },
  {
   "cell_type": "code",
   "execution_count": null,
   "metadata": {},
   "outputs": [],
   "source": []
  }
 ],
 "metadata": {
  "kernelspec": {
   "display_name": "Python 3",
   "language": "python",
   "name": "python3"
  },
  "language_info": {
   "codemirror_mode": {
    "name": "ipython",
    "version": 3
   },
   "file_extension": ".py",
   "mimetype": "text/x-python",
   "name": "python",
   "nbconvert_exporter": "python",
   "pygments_lexer": "ipython3",
   "version": "3.7.4"
  }
 },
 "nbformat": 4,
 "nbformat_minor": 2
}
